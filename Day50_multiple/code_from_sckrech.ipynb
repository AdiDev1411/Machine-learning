{
 "cells": [
  {
   "cell_type": "code",
   "execution_count": 1,
   "id": "6c969d69",
   "metadata": {},
   "outputs": [],
   "source": [
    "from sklearn.datasets import make_regression\n",
    "import pandas as pd \n",
    "import numpy as np\n",
    "\n",
    "import plotly.express as px\n",
    "import plotly.graph_objects as go\n",
    "\n",
    "\n",
    "from sklearn.metrics import mean_absolute_error,mean_squared_error,r2_score"
   ]
  },
  {
   "cell_type": "code",
   "execution_count": 2,
   "id": "173b2162",
   "metadata": {},
   "outputs": [],
   "source": [
    "X,y = make_regression(n_samples=100,n_features=2,n_targets=1,n_informative=2,noise=50)"
   ]
  },
  {
   "cell_type": "code",
   "execution_count": 3,
   "id": "854d98a9",
   "metadata": {},
   "outputs": [],
   "source": [
    "df = pd.DataFrame({'feture 1' : X[:,0],'feture 2' : X[:,1],'feture 3' : y})"
   ]
  },
  {
   "cell_type": "code",
   "execution_count": 4,
   "id": "bff6bba7",
   "metadata": {},
   "outputs": [
    {
     "data": {
      "text/html": [
       "<div>\n",
       "<style scoped>\n",
       "    .dataframe tbody tr th:only-of-type {\n",
       "        vertical-align: middle;\n",
       "    }\n",
       "\n",
       "    .dataframe tbody tr th {\n",
       "        vertical-align: top;\n",
       "    }\n",
       "\n",
       "    .dataframe thead th {\n",
       "        text-align: right;\n",
       "    }\n",
       "</style>\n",
       "<table border=\"1\" class=\"dataframe\">\n",
       "  <thead>\n",
       "    <tr style=\"text-align: right;\">\n",
       "      <th></th>\n",
       "      <th>feture 1</th>\n",
       "      <th>feture 2</th>\n",
       "      <th>feture 3</th>\n",
       "    </tr>\n",
       "  </thead>\n",
       "  <tbody>\n",
       "    <tr>\n",
       "      <th>0</th>\n",
       "      <td>1.511508</td>\n",
       "      <td>-1.717729</td>\n",
       "      <td>14.747968</td>\n",
       "    </tr>\n",
       "    <tr>\n",
       "      <th>1</th>\n",
       "      <td>0.460028</td>\n",
       "      <td>-0.260331</td>\n",
       "      <td>20.568962</td>\n",
       "    </tr>\n",
       "    <tr>\n",
       "      <th>2</th>\n",
       "      <td>-0.512013</td>\n",
       "      <td>-1.303739</td>\n",
       "      <td>-187.868771</td>\n",
       "    </tr>\n",
       "    <tr>\n",
       "      <th>3</th>\n",
       "      <td>-0.532634</td>\n",
       "      <td>-0.086076</td>\n",
       "      <td>-37.247614</td>\n",
       "    </tr>\n",
       "    <tr>\n",
       "      <th>4</th>\n",
       "      <td>1.094341</td>\n",
       "      <td>-0.008495</td>\n",
       "      <td>39.548201</td>\n",
       "    </tr>\n",
       "    <tr>\n",
       "      <th>...</th>\n",
       "      <td>...</td>\n",
       "      <td>...</td>\n",
       "      <td>...</td>\n",
       "    </tr>\n",
       "    <tr>\n",
       "      <th>95</th>\n",
       "      <td>1.746069</td>\n",
       "      <td>1.638477</td>\n",
       "      <td>308.198842</td>\n",
       "    </tr>\n",
       "    <tr>\n",
       "      <th>96</th>\n",
       "      <td>-0.182355</td>\n",
       "      <td>1.562697</td>\n",
       "      <td>141.209419</td>\n",
       "    </tr>\n",
       "    <tr>\n",
       "      <th>97</th>\n",
       "      <td>1.315747</td>\n",
       "      <td>-0.163950</td>\n",
       "      <td>94.537555</td>\n",
       "    </tr>\n",
       "    <tr>\n",
       "      <th>98</th>\n",
       "      <td>0.276290</td>\n",
       "      <td>0.776519</td>\n",
       "      <td>82.123092</td>\n",
       "    </tr>\n",
       "    <tr>\n",
       "      <th>99</th>\n",
       "      <td>-0.059495</td>\n",
       "      <td>1.154019</td>\n",
       "      <td>131.535817</td>\n",
       "    </tr>\n",
       "  </tbody>\n",
       "</table>\n",
       "<p>100 rows × 3 columns</p>\n",
       "</div>"
      ],
      "text/plain": [
       "    feture 1  feture 2    feture 3\n",
       "0   1.511508 -1.717729   14.747968\n",
       "1   0.460028 -0.260331   20.568962\n",
       "2  -0.512013 -1.303739 -187.868771\n",
       "3  -0.532634 -0.086076  -37.247614\n",
       "4   1.094341 -0.008495   39.548201\n",
       "..       ...       ...         ...\n",
       "95  1.746069  1.638477  308.198842\n",
       "96 -0.182355  1.562697  141.209419\n",
       "97  1.315747 -0.163950   94.537555\n",
       "98  0.276290  0.776519   82.123092\n",
       "99 -0.059495  1.154019  131.535817\n",
       "\n",
       "[100 rows x 3 columns]"
      ]
     },
     "execution_count": 4,
     "metadata": {},
     "output_type": "execute_result"
    }
   ],
   "source": [
    "df"
   ]
  },
  {
   "cell_type": "code",
   "execution_count": 5,
   "id": "3957edda",
   "metadata": {},
   "outputs": [],
   "source": [
    "fig = px.scatter_3d(df,x= 'feture 1',y='feture 2',z='feture 3')\n"
   ]
  },
  {
   "cell_type": "code",
   "execution_count": 6,
   "id": "1ba966dd",
   "metadata": {},
   "outputs": [
    {
     "name": "stderr",
     "output_type": "stream",
     "text": [
      "\n",
      "[notice] A new release of pip is available: 25.0.1 -> 25.1.1\n",
      "[notice] To update, run: python.exe -m pip install --upgrade pip\n"
     ]
    },
    {
     "name": "stdout",
     "output_type": "stream",
     "text": [
      "Defaulting to user installation because normal site-packages is not writeable\n",
      "Requirement already satisfied: nbformat in c:\\users\\aditya\\appdata\\roaming\\python\\python312\\site-packages (5.10.4)\n",
      "Requirement already satisfied: fastjsonschema>=2.15 in c:\\users\\aditya\\appdata\\roaming\\python\\python312\\site-packages (from nbformat) (2.21.1)\n",
      "Requirement already satisfied: jsonschema>=2.6 in c:\\users\\aditya\\appdata\\roaming\\python\\python312\\site-packages (from nbformat) (4.23.0)\n",
      "Requirement already satisfied: jupyter-core!=5.0.*,>=4.12 in c:\\users\\aditya\\appdata\\roaming\\python\\python312\\site-packages (from nbformat) (5.7.2)\n",
      "Requirement already satisfied: traitlets>=5.1 in c:\\users\\aditya\\appdata\\roaming\\python\\python312\\site-packages (from nbformat) (5.14.3)\n",
      "Requirement already satisfied: attrs>=22.2.0 in c:\\users\\aditya\\appdata\\roaming\\python\\python312\\site-packages (from jsonschema>=2.6->nbformat) (25.1.0)\n",
      "Requirement already satisfied: jsonschema-specifications>=2023.03.6 in c:\\users\\aditya\\appdata\\roaming\\python\\python312\\site-packages (from jsonschema>=2.6->nbformat) (2024.10.1)\n",
      "Requirement already satisfied: referencing>=0.28.4 in c:\\users\\aditya\\appdata\\roaming\\python\\python312\\site-packages (from jsonschema>=2.6->nbformat) (0.36.2)\n",
      "Requirement already satisfied: rpds-py>=0.7.1 in c:\\users\\aditya\\appdata\\roaming\\python\\python312\\site-packages (from jsonschema>=2.6->nbformat) (0.23.1)\n",
      "Requirement already satisfied: platformdirs>=2.5 in c:\\users\\aditya\\appdata\\roaming\\python\\python312\\site-packages (from jupyter-core!=5.0.*,>=4.12->nbformat) (4.3.6)\n",
      "Requirement already satisfied: pywin32>=300 in c:\\users\\aditya\\appdata\\roaming\\python\\python312\\site-packages (from jupyter-core!=5.0.*,>=4.12->nbformat) (308)\n",
      "Requirement already satisfied: typing-extensions>=4.4.0 in c:\\users\\aditya\\appdata\\roaming\\python\\python312\\site-packages (from referencing>=0.28.4->jsonschema>=2.6->nbformat) (4.12.2)\n",
      "Note: you may need to restart the kernel to use updated packages.\n"
     ]
    },
    {
     "data": {
      "application/vnd.plotly.v1+json": {
       "config": {
        "plotlyServerURL": "https://plot.ly"
       },
       "data": [
        {
         "hovertemplate": "feture 1=%{x}<br>feture 2=%{y}<br>feture 3=%{z}<extra></extra>",
         "legendgroup": "",
         "marker": {
          "color": "#636efa",
          "symbol": "circle"
         },
         "mode": "markers",
         "name": "",
         "scene": "scene",
         "showlegend": false,
         "type": "scatter3d",
         "x": {
          "bdata": "VuTtWSMv+D8SIM86GnHdPzVxbttpYuC/xa/Z1FYL4b81mVn7a4LxPwJ9stvnbOo/NdLZIuAw9r+/LFF3o3zSPyCbCMPcddm/XMKDcm8EAsAOKorsfPnzP/OG196QEfG/v8bfgwxDxb/QWbWex4Psv0dRF+7+//Q/Qm/rMl4D+j806ui9naDrP/rGbvUOJeG/YWiL95YG3b+x0jWPpG7Jv9v+ZAhXoPK/U/kSVnfhyz/0Qg86VETrv33H2x2eJva/KTSXhbo9A0BsXIA2WHX5P/tQDyHtXdk/z9AHWTA99T94KBeeq3f5P2qCBWeosdS/PTjXxep38T8bqV/A45H1v1tBKPALKdo/FJb/pedn1b9f4eeUY73Uv/33K+FYgfs/J47yHKLqAsC1eguyFcfXP99oPuvdNa2/jT0y/rcS8b8yydJ7bnT/v34wvtStQPY/hE9THcIY+D+ZltEAMHrtP/arcJh1a/W/zYhs7VtQyr/pv54gU1C7P0v1gw0FIPA//I19Cn8PzL/guVlLbY7wv+d0O/v6PMA/GQ5AXoS0s78nBL82HITjPxsb0V2To9C/phHalI2U67+etuPy/2XRv0YBIcfl5/W//xpC3PXd5D/VBoRX7W7PP3MCr/wNQeW/O2d4zD6t9r/CbN11QU31v+6NITLUmta/yDfF+ycbm7813+k7Xl8EQP4y8j9dzvW/KpOkIWYd5D/r5WOJ+B7sP5o3l1AyNui/SsaNnlkk8D/f+AEfZAbkP7gOebjK1ve/zAmJvXWX3j8s1aBiPh3Tv9yWHBm2Nvq/kXcXmARt6L/lbqZTde7QP/LESXp6jOM/yt9xUNYK0b8t/kKQ71ytPzKOBn45X/I/2CkcEyTYAkCEGkaN7/P/vw2bvY2FzwJAFZ40lCJdA8CNsBOJRnjSv1zqHt7Ho9I/VAYktLUo9L8+iEEWDyDsv/gbAlaeWdi/mkDRHyHZ2D9qhdsTJajUv6AR5Wct5fC/4DobmVU68D+oBhPRGBPev4jnZivm7/s/xSghGWVXx797UfEkTQ31P7KHebi7rtE/JVkKUSt2rr8=",
          "dtype": "f8"
         },
         "y": {
          "bdata": "XoXKkNF7+7+BDAnqQ6nQv1UJCyId3PS/y9ymCxUJtr97sBkAqGWBvzRKhR9gu/A/w9vhYCMSt78PdhLtu97xv2bN5wGy5Og/hVYXBllE1r9X66OvQHTHv8sYKQT+4fE/knZ6gixL0D+AFWEXhYDLv8Ut795oqc4/7x2LgTys8z8CUyOtRM/oPx9NzqyDt/k/NnbDmaFK7T9lyv2MEjsDwINc3phqD/c/QMwvl85f7j+FFkflngr2v0NUva6qwOk/JO5SmyyJ4L+lz1fpuiP+v0fg0Cdisfu/giS+LHTCBECCKzqabwz1vzARwg4GUc8/NNpGAiI73r95P9s7i0L3P9b00M/ds9q/84Mym/3Ytb/OgdWKlp/bv2+WO/2yf+c/8upjG1oi17+gY/g4KRPdv+7s4KX4jgfAM4DhtYqc1D8t4BqgJYzYv5hI0fyNneE/bpfEyE291T+j8818jX3av9hhcQsS3eQ/wpJPGYiQ4r8D4MLX3KP7Pzsee4rYD+e/13ysm9+D8b/rxdF7crWbP7XOTH64OeU/nQ42LN4D+D8h0y+fvG4AwBciMAVope2/d6bVrSmu6j+Gvx7/uPPxP+dyG8IFxsw/uTj2Fm+x6z8qEYpUV5fkv7QEF1vn0fo/4aRb2MHqtb9TM1IRSavmv39eXiJ9FPs/KcYnH7dE6z+JwkDUIloCwGNGCHe6tvC/enJc6YNM0L/rYLb/+wTmP/l7eOVG1cg/Lcz0tdh+/L/tuwvV6yTMvxHxgmb3ELa/+y6H50AS5j+//f1uDS75v6fgNS+S9OE/YsHQMgvU+T8CrtJD+CXhv5lvWcIxOMk//vs9ODNk0D9SLJ6u5mvxP9iqBBn5Pec/SLjEpMTd7D9FYYZR+FTMP2kvB5azOu8/vlFWOoSb0D9wTbh45hLSv4SQH9Ud3dK/vron/eZZqT9JbNy1nhHLv0sOyj+TXfO/lP5Uuz+z9D8WH/UbNgPxv+hPuYHurtI/I0Qh2ezdu7+JgbJph1CxP3ohEowzN/o//p2c6c4A+T/TKvc4U/zEv4FXqsQ92eg/HzEs2Nx28j8=",
          "dtype": "f8"
         },
         "z": {
          "bdata": "uJMAm/V+LUDYrzGBp5E0QNuP6/jMe2fAOIGczrGfQsCLdmh0K8ZDQB2UbwRfzGlAQKb3TDOaUsB2NJoOucFDwByt7rfAYTfAP+BqT9NTbcDHcs0Zj5BjQISZDtBm4RPA6judztPVGUC3o/FTaBpMwGr/RL1zCl9Ahc1zApqPbEC5etvLqZtTQNytgRigPV1AyPEkogVwSEAcCX+3tcBtwPVq8uIvyUJAqC4FUuVkTkALkUejBBRwwAgmH/e/hijAFHetWME0WEC0IZs+qzJTQFGKHa89DWLALH77fOl+d0DeJc+zRf4aQINCU/Z4eFbApQoHpRF0Z0CDVWbxOAJAQDWN6Wz/Sy9ApLeyMQsGF8Agg2gixM8rQIvG7xE/gGtACRs4riYRcsBMWc/CCqgaQIufpdNDTHTAoI0/pP7mRMC59eUY3sZpwGmZxyvZcGFACwGkAbkfVkBLtR1+5XJGQPS7kaxZqiRASEcelIS4W8A+bqgmMjBkQLyoC8zpk1BAVvPdgl3UW8DB+Z8KEY1MwNXa4CLUmVJA/jSigy4EU0BvpUS2BO9qwLhLi+TwMUvAQCpQRWpMKsD4ElwB381PQJyOMx+bFFDAPpNu3glvVEDMKuWsRYxXwF82GqSgbUVAEEjyNAsSYcCotxQJwQluwApZFLT6O2NAmmxi5ZLITEDP9ewzHQ9AwDT2yDe9nmXA89PlnpV7RMAhJgzyboBfQAyOM11ktkPAImyFVWE1ZMDsyZMz1ckXQK7EkdpCtWbAMGk1IB3DakAp0bDpwU5hwCX3WDuLxGTA0r5/TkaGTkBsFCorxGJBwPYnw6fchEhAlM63jAffOkASXKqNoU9vQLP1IxNdBWtA2d1OR+1Nc0CUa2es1mRkwFZhuwBQRXRAMpU5ojezY8DGxw23JRVPQOZR3ah5V1HAoG0pEUqnT8AjXuaQBxRIwOL1alWq42XAWI9RbQAOaEDK63zq+sJlwLAaqToyeEPAEEorSe5uW0Akg6+Yr3cvwO1V/nQuQ3NAKOPWjrOmYUATkRZMZ6JXQP/jRrvgh1RAURA+aSVxYEA=",
          "dtype": "f8"
         }
        }
       ],
       "layout": {
        "legend": {
         "tracegroupgap": 0
        },
        "margin": {
         "t": 60
        },
        "scene": {
         "domain": {
          "x": [
           0,
           1
          ],
          "y": [
           0,
           1
          ]
         },
         "xaxis": {
          "title": {
           "text": "feture 1"
          }
         },
         "yaxis": {
          "title": {
           "text": "feture 2"
          }
         },
         "zaxis": {
          "title": {
           "text": "feture 3"
          }
         }
        },
        "template": {
         "data": {
          "bar": [
           {
            "error_x": {
             "color": "#2a3f5f"
            },
            "error_y": {
             "color": "#2a3f5f"
            },
            "marker": {
             "line": {
              "color": "#E5ECF6",
              "width": 0.5
             },
             "pattern": {
              "fillmode": "overlay",
              "size": 10,
              "solidity": 0.2
             }
            },
            "type": "bar"
           }
          ],
          "barpolar": [
           {
            "marker": {
             "line": {
              "color": "#E5ECF6",
              "width": 0.5
             },
             "pattern": {
              "fillmode": "overlay",
              "size": 10,
              "solidity": 0.2
             }
            },
            "type": "barpolar"
           }
          ],
          "carpet": [
           {
            "aaxis": {
             "endlinecolor": "#2a3f5f",
             "gridcolor": "white",
             "linecolor": "white",
             "minorgridcolor": "white",
             "startlinecolor": "#2a3f5f"
            },
            "baxis": {
             "endlinecolor": "#2a3f5f",
             "gridcolor": "white",
             "linecolor": "white",
             "minorgridcolor": "white",
             "startlinecolor": "#2a3f5f"
            },
            "type": "carpet"
           }
          ],
          "choropleth": [
           {
            "colorbar": {
             "outlinewidth": 0,
             "ticks": ""
            },
            "type": "choropleth"
           }
          ],
          "contour": [
           {
            "colorbar": {
             "outlinewidth": 0,
             "ticks": ""
            },
            "colorscale": [
             [
              0,
              "#0d0887"
             ],
             [
              0.1111111111111111,
              "#46039f"
             ],
             [
              0.2222222222222222,
              "#7201a8"
             ],
             [
              0.3333333333333333,
              "#9c179e"
             ],
             [
              0.4444444444444444,
              "#bd3786"
             ],
             [
              0.5555555555555556,
              "#d8576b"
             ],
             [
              0.6666666666666666,
              "#ed7953"
             ],
             [
              0.7777777777777778,
              "#fb9f3a"
             ],
             [
              0.8888888888888888,
              "#fdca26"
             ],
             [
              1,
              "#f0f921"
             ]
            ],
            "type": "contour"
           }
          ],
          "contourcarpet": [
           {
            "colorbar": {
             "outlinewidth": 0,
             "ticks": ""
            },
            "type": "contourcarpet"
           }
          ],
          "heatmap": [
           {
            "colorbar": {
             "outlinewidth": 0,
             "ticks": ""
            },
            "colorscale": [
             [
              0,
              "#0d0887"
             ],
             [
              0.1111111111111111,
              "#46039f"
             ],
             [
              0.2222222222222222,
              "#7201a8"
             ],
             [
              0.3333333333333333,
              "#9c179e"
             ],
             [
              0.4444444444444444,
              "#bd3786"
             ],
             [
              0.5555555555555556,
              "#d8576b"
             ],
             [
              0.6666666666666666,
              "#ed7953"
             ],
             [
              0.7777777777777778,
              "#fb9f3a"
             ],
             [
              0.8888888888888888,
              "#fdca26"
             ],
             [
              1,
              "#f0f921"
             ]
            ],
            "type": "heatmap"
           }
          ],
          "histogram": [
           {
            "marker": {
             "pattern": {
              "fillmode": "overlay",
              "size": 10,
              "solidity": 0.2
             }
            },
            "type": "histogram"
           }
          ],
          "histogram2d": [
           {
            "colorbar": {
             "outlinewidth": 0,
             "ticks": ""
            },
            "colorscale": [
             [
              0,
              "#0d0887"
             ],
             [
              0.1111111111111111,
              "#46039f"
             ],
             [
              0.2222222222222222,
              "#7201a8"
             ],
             [
              0.3333333333333333,
              "#9c179e"
             ],
             [
              0.4444444444444444,
              "#bd3786"
             ],
             [
              0.5555555555555556,
              "#d8576b"
             ],
             [
              0.6666666666666666,
              "#ed7953"
             ],
             [
              0.7777777777777778,
              "#fb9f3a"
             ],
             [
              0.8888888888888888,
              "#fdca26"
             ],
             [
              1,
              "#f0f921"
             ]
            ],
            "type": "histogram2d"
           }
          ],
          "histogram2dcontour": [
           {
            "colorbar": {
             "outlinewidth": 0,
             "ticks": ""
            },
            "colorscale": [
             [
              0,
              "#0d0887"
             ],
             [
              0.1111111111111111,
              "#46039f"
             ],
             [
              0.2222222222222222,
              "#7201a8"
             ],
             [
              0.3333333333333333,
              "#9c179e"
             ],
             [
              0.4444444444444444,
              "#bd3786"
             ],
             [
              0.5555555555555556,
              "#d8576b"
             ],
             [
              0.6666666666666666,
              "#ed7953"
             ],
             [
              0.7777777777777778,
              "#fb9f3a"
             ],
             [
              0.8888888888888888,
              "#fdca26"
             ],
             [
              1,
              "#f0f921"
             ]
            ],
            "type": "histogram2dcontour"
           }
          ],
          "mesh3d": [
           {
            "colorbar": {
             "outlinewidth": 0,
             "ticks": ""
            },
            "type": "mesh3d"
           }
          ],
          "parcoords": [
           {
            "line": {
             "colorbar": {
              "outlinewidth": 0,
              "ticks": ""
             }
            },
            "type": "parcoords"
           }
          ],
          "pie": [
           {
            "automargin": true,
            "type": "pie"
           }
          ],
          "scatter": [
           {
            "fillpattern": {
             "fillmode": "overlay",
             "size": 10,
             "solidity": 0.2
            },
            "type": "scatter"
           }
          ],
          "scatter3d": [
           {
            "line": {
             "colorbar": {
              "outlinewidth": 0,
              "ticks": ""
             }
            },
            "marker": {
             "colorbar": {
              "outlinewidth": 0,
              "ticks": ""
             }
            },
            "type": "scatter3d"
           }
          ],
          "scattercarpet": [
           {
            "marker": {
             "colorbar": {
              "outlinewidth": 0,
              "ticks": ""
             }
            },
            "type": "scattercarpet"
           }
          ],
          "scattergeo": [
           {
            "marker": {
             "colorbar": {
              "outlinewidth": 0,
              "ticks": ""
             }
            },
            "type": "scattergeo"
           }
          ],
          "scattergl": [
           {
            "marker": {
             "colorbar": {
              "outlinewidth": 0,
              "ticks": ""
             }
            },
            "type": "scattergl"
           }
          ],
          "scattermap": [
           {
            "marker": {
             "colorbar": {
              "outlinewidth": 0,
              "ticks": ""
             }
            },
            "type": "scattermap"
           }
          ],
          "scattermapbox": [
           {
            "marker": {
             "colorbar": {
              "outlinewidth": 0,
              "ticks": ""
             }
            },
            "type": "scattermapbox"
           }
          ],
          "scatterpolar": [
           {
            "marker": {
             "colorbar": {
              "outlinewidth": 0,
              "ticks": ""
             }
            },
            "type": "scatterpolar"
           }
          ],
          "scatterpolargl": [
           {
            "marker": {
             "colorbar": {
              "outlinewidth": 0,
              "ticks": ""
             }
            },
            "type": "scatterpolargl"
           }
          ],
          "scatterternary": [
           {
            "marker": {
             "colorbar": {
              "outlinewidth": 0,
              "ticks": ""
             }
            },
            "type": "scatterternary"
           }
          ],
          "surface": [
           {
            "colorbar": {
             "outlinewidth": 0,
             "ticks": ""
            },
            "colorscale": [
             [
              0,
              "#0d0887"
             ],
             [
              0.1111111111111111,
              "#46039f"
             ],
             [
              0.2222222222222222,
              "#7201a8"
             ],
             [
              0.3333333333333333,
              "#9c179e"
             ],
             [
              0.4444444444444444,
              "#bd3786"
             ],
             [
              0.5555555555555556,
              "#d8576b"
             ],
             [
              0.6666666666666666,
              "#ed7953"
             ],
             [
              0.7777777777777778,
              "#fb9f3a"
             ],
             [
              0.8888888888888888,
              "#fdca26"
             ],
             [
              1,
              "#f0f921"
             ]
            ],
            "type": "surface"
           }
          ],
          "table": [
           {
            "cells": {
             "fill": {
              "color": "#EBF0F8"
             },
             "line": {
              "color": "white"
             }
            },
            "header": {
             "fill": {
              "color": "#C8D4E3"
             },
             "line": {
              "color": "white"
             }
            },
            "type": "table"
           }
          ]
         },
         "layout": {
          "annotationdefaults": {
           "arrowcolor": "#2a3f5f",
           "arrowhead": 0,
           "arrowwidth": 1
          },
          "autotypenumbers": "strict",
          "coloraxis": {
           "colorbar": {
            "outlinewidth": 0,
            "ticks": ""
           }
          },
          "colorscale": {
           "diverging": [
            [
             0,
             "#8e0152"
            ],
            [
             0.1,
             "#c51b7d"
            ],
            [
             0.2,
             "#de77ae"
            ],
            [
             0.3,
             "#f1b6da"
            ],
            [
             0.4,
             "#fde0ef"
            ],
            [
             0.5,
             "#f7f7f7"
            ],
            [
             0.6,
             "#e6f5d0"
            ],
            [
             0.7,
             "#b8e186"
            ],
            [
             0.8,
             "#7fbc41"
            ],
            [
             0.9,
             "#4d9221"
            ],
            [
             1,
             "#276419"
            ]
           ],
           "sequential": [
            [
             0,
             "#0d0887"
            ],
            [
             0.1111111111111111,
             "#46039f"
            ],
            [
             0.2222222222222222,
             "#7201a8"
            ],
            [
             0.3333333333333333,
             "#9c179e"
            ],
            [
             0.4444444444444444,
             "#bd3786"
            ],
            [
             0.5555555555555556,
             "#d8576b"
            ],
            [
             0.6666666666666666,
             "#ed7953"
            ],
            [
             0.7777777777777778,
             "#fb9f3a"
            ],
            [
             0.8888888888888888,
             "#fdca26"
            ],
            [
             1,
             "#f0f921"
            ]
           ],
           "sequentialminus": [
            [
             0,
             "#0d0887"
            ],
            [
             0.1111111111111111,
             "#46039f"
            ],
            [
             0.2222222222222222,
             "#7201a8"
            ],
            [
             0.3333333333333333,
             "#9c179e"
            ],
            [
             0.4444444444444444,
             "#bd3786"
            ],
            [
             0.5555555555555556,
             "#d8576b"
            ],
            [
             0.6666666666666666,
             "#ed7953"
            ],
            [
             0.7777777777777778,
             "#fb9f3a"
            ],
            [
             0.8888888888888888,
             "#fdca26"
            ],
            [
             1,
             "#f0f921"
            ]
           ]
          },
          "colorway": [
           "#636efa",
           "#EF553B",
           "#00cc96",
           "#ab63fa",
           "#FFA15A",
           "#19d3f3",
           "#FF6692",
           "#B6E880",
           "#FF97FF",
           "#FECB52"
          ],
          "font": {
           "color": "#2a3f5f"
          },
          "geo": {
           "bgcolor": "white",
           "lakecolor": "white",
           "landcolor": "#E5ECF6",
           "showlakes": true,
           "showland": true,
           "subunitcolor": "white"
          },
          "hoverlabel": {
           "align": "left"
          },
          "hovermode": "closest",
          "mapbox": {
           "style": "light"
          },
          "paper_bgcolor": "white",
          "plot_bgcolor": "#E5ECF6",
          "polar": {
           "angularaxis": {
            "gridcolor": "white",
            "linecolor": "white",
            "ticks": ""
           },
           "bgcolor": "#E5ECF6",
           "radialaxis": {
            "gridcolor": "white",
            "linecolor": "white",
            "ticks": ""
           }
          },
          "scene": {
           "xaxis": {
            "backgroundcolor": "#E5ECF6",
            "gridcolor": "white",
            "gridwidth": 2,
            "linecolor": "white",
            "showbackground": true,
            "ticks": "",
            "zerolinecolor": "white"
           },
           "yaxis": {
            "backgroundcolor": "#E5ECF6",
            "gridcolor": "white",
            "gridwidth": 2,
            "linecolor": "white",
            "showbackground": true,
            "ticks": "",
            "zerolinecolor": "white"
           },
           "zaxis": {
            "backgroundcolor": "#E5ECF6",
            "gridcolor": "white",
            "gridwidth": 2,
            "linecolor": "white",
            "showbackground": true,
            "ticks": "",
            "zerolinecolor": "white"
           }
          },
          "shapedefaults": {
           "line": {
            "color": "#2a3f5f"
           }
          },
          "ternary": {
           "aaxis": {
            "gridcolor": "white",
            "linecolor": "white",
            "ticks": ""
           },
           "baxis": {
            "gridcolor": "white",
            "linecolor": "white",
            "ticks": ""
           },
           "bgcolor": "#E5ECF6",
           "caxis": {
            "gridcolor": "white",
            "linecolor": "white",
            "ticks": ""
           }
          },
          "title": {
           "x": 0.05
          },
          "xaxis": {
           "automargin": true,
           "gridcolor": "white",
           "linecolor": "white",
           "ticks": "",
           "title": {
            "standoff": 15
           },
           "zerolinecolor": "white",
           "zerolinewidth": 2
          },
          "yaxis": {
           "automargin": true,
           "gridcolor": "white",
           "linecolor": "white",
           "ticks": "",
           "title": {
            "standoff": 15
           },
           "zerolinecolor": "white",
           "zerolinewidth": 2
          }
         }
        }
       }
      }
     },
     "metadata": {},
     "output_type": "display_data"
    }
   ],
   "source": [
    "%pip install nbformat\n",
    "\n",
    "fig.show()"
   ]
  }
 ],
 "metadata": {
  "kernelspec": {
   "display_name": "Python 3",
   "language": "python",
   "name": "python3"
  },
  "language_info": {
   "codemirror_mode": {
    "name": "ipython",
    "version": 3
   },
   "file_extension": ".py",
   "mimetype": "text/x-python",
   "name": "python",
   "nbconvert_exporter": "python",
   "pygments_lexer": "ipython3",
   "version": "3.12.4"
  }
 },
 "nbformat": 4,
 "nbformat_minor": 5
}
