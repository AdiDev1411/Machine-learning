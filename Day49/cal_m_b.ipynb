{
  "nbformat": 4,
  "nbformat_minor": 0,
  "metadata": {
    "colab": {
      "provenance": []
    },
    "kernelspec": {
      "name": "python3",
      "display_name": "Python 3"
    },
    "language_info": {
      "name": "python"
    }
  },
  "cells": [
    {
      "cell_type": "code",
      "execution_count": 43,
      "metadata": {
        "id": "PvcCJpmOxNMG"
      },
      "outputs": [],
      "source": [
        "class meralr:\n",
        "  def __init__(self):\n",
        "    self.m= None\n",
        "    self.b = None\n",
        "\n",
        "  def fit (self,X,Y):\n",
        "    num = 0\n",
        "    dem = 0\n",
        "\n",
        "    for i in range(X.shape[0]):\n",
        "      num = num + ((Y[i]-Y.mean())*(X[i]-X.mean()))\n",
        "      dem = dem + (X[i]-X.mean())*(X[i]-X.mean())\n",
        "\n",
        "    self.m = num/dem\n",
        "    self.b = (Y.mean() - (self.m)*(X.mean()))\n",
        "\n",
        "    print(self.m)\n",
        "    print(self.b)\n",
        "  def predict(self,Y):\n",
        "    pass\n"
      ]
    },
    {
      "cell_type": "code",
      "source": [
        "import pandas as pd\n",
        "df = pd.read_csv('placement.csv')\n"
      ],
      "metadata": {
        "id": "hE3RR0T4yHru"
      },
      "execution_count": 44,
      "outputs": []
    },
    {
      "cell_type": "code",
      "source": [
        "X = df.iloc[:,0].values\n",
        "Y = df.iloc[:,1].values\n"
      ],
      "metadata": {
        "id": "Cu0pU2Kyydd0"
      },
      "execution_count": 45,
      "outputs": []
    },
    {
      "cell_type": "code",
      "source": [
        "from sklearn.model_selection import train_test_split\n",
        "\n",
        "X_train , X_test , y_train , y_test = train_test_split(X,Y,test_size=0.2,random_state=2)"
      ],
      "metadata": {
        "id": "j6Xg4zXSyl0Z"
      },
      "execution_count": 46,
      "outputs": []
    },
    {
      "cell_type": "code",
      "source": [
        "lr = meralr()\n"
      ],
      "metadata": {
        "id": "4ae4f2nr2SR_"
      },
      "execution_count": 47,
      "outputs": []
    },
    {
      "cell_type": "code",
      "source": [
        "lr.fit(X_train,y_train)"
      ],
      "metadata": {
        "colab": {
          "base_uri": "https://localhost:8080/"
        },
        "id": "cNC6eV3D2Wkp",
        "outputId": "207a97e1-b7b7-4961-88c7-b2caa0d24eca"
      },
      "execution_count": 48,
      "outputs": [
        {
          "output_type": "stream",
          "name": "stdout",
          "text": [
            "0.5579519734250721\n",
            "-0.8961119222429152\n"
          ]
        }
      ]
    }
  ]
}